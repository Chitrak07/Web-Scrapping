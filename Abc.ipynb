{
 "cells": [
  {
   "cell_type": "code",
   "execution_count": 22,
   "id": "e0e6a77d",
   "metadata": {},
   "outputs": [],
   "source": [
    "import pandas as pd\n",
    "import requests\n",
    "from nltk.corpus import stopwords \n",
    "from nltk.tokenize import word_tokenize\n",
    "from nltk.tokenize import sent_tokenize\n",
    "from bs4 import BeautifulSoup\n",
    "import re\n",
    "import nltk\n",
    "import string\n",
    "import spacy\n",
    "import re"
   ]
  },
  {
   "cell_type": "code",
   "execution_count": 4,
   "id": "f302210b",
   "metadata": {},
   "outputs": [
    {
     "data": {
      "text/html": [
       "<div>\n",
       "<style scoped>\n",
       "    .dataframe tbody tr th:only-of-type {\n",
       "        vertical-align: middle;\n",
       "    }\n",
       "\n",
       "    .dataframe tbody tr th {\n",
       "        vertical-align: top;\n",
       "    }\n",
       "\n",
       "    .dataframe thead th {\n",
       "        text-align: right;\n",
       "    }\n",
       "</style>\n",
       "<table border=\"1\" class=\"dataframe\">\n",
       "  <thead>\n",
       "    <tr style=\"text-align: right;\">\n",
       "      <th></th>\n",
       "      <th>URL_ID</th>\n",
       "      <th>URL</th>\n",
       "    </tr>\n",
       "  </thead>\n",
       "  <tbody>\n",
       "    <tr>\n",
       "      <th>0</th>\n",
       "      <td>37.0</td>\n",
       "      <td>https://insights.blackcoffer.com/ai-in-healthc...</td>\n",
       "    </tr>\n",
       "    <tr>\n",
       "      <th>1</th>\n",
       "      <td>38.0</td>\n",
       "      <td>https://insights.blackcoffer.com/what-if-the-c...</td>\n",
       "    </tr>\n",
       "    <tr>\n",
       "      <th>2</th>\n",
       "      <td>39.0</td>\n",
       "      <td>https://insights.blackcoffer.com/what-jobs-wil...</td>\n",
       "    </tr>\n",
       "    <tr>\n",
       "      <th>3</th>\n",
       "      <td>40.0</td>\n",
       "      <td>https://insights.blackcoffer.com/will-machine-...</td>\n",
       "    </tr>\n",
       "    <tr>\n",
       "      <th>4</th>\n",
       "      <td>41.0</td>\n",
       "      <td>https://insights.blackcoffer.com/will-ai-repla...</td>\n",
       "    </tr>\n",
       "  </tbody>\n",
       "</table>\n",
       "</div>"
      ],
      "text/plain": [
       "   URL_ID                                                URL\n",
       "0    37.0  https://insights.blackcoffer.com/ai-in-healthc...\n",
       "1    38.0  https://insights.blackcoffer.com/what-if-the-c...\n",
       "2    39.0  https://insights.blackcoffer.com/what-jobs-wil...\n",
       "3    40.0  https://insights.blackcoffer.com/will-machine-...\n",
       "4    41.0  https://insights.blackcoffer.com/will-ai-repla..."
      ]
     },
     "execution_count": 4,
     "metadata": {},
     "output_type": "execute_result"
    }
   ],
   "source": [
    "df = pd.read_excel('input.xlsx')\n",
    "df.head()"
   ]
  },
  {
   "cell_type": "code",
   "execution_count": 5,
   "id": "747f346e",
   "metadata": {},
   "outputs": [
    {
     "data": {
      "text/plain": [
       "<bound method DataFrame.info of      URL_ID                                                URL\n",
       "0      37.0  https://insights.blackcoffer.com/ai-in-healthc...\n",
       "1      38.0  https://insights.blackcoffer.com/what-if-the-c...\n",
       "2      39.0  https://insights.blackcoffer.com/what-jobs-wil...\n",
       "3      40.0  https://insights.blackcoffer.com/will-machine-...\n",
       "4      41.0  https://insights.blackcoffer.com/will-ai-repla...\n",
       "..      ...                                                ...\n",
       "109   146.0  https://insights.blackcoffer.com/blockchain-fo...\n",
       "110   147.0  https://insights.blackcoffer.com/the-future-of...\n",
       "111   148.0  https://insights.blackcoffer.com/big-data-anal...\n",
       "112   149.0  https://insights.blackcoffer.com/business-anal...\n",
       "113   150.0  https://insights.blackcoffer.com/challenges-an...\n",
       "\n",
       "[114 rows x 2 columns]>"
      ]
     },
     "execution_count": 5,
     "metadata": {},
     "output_type": "execute_result"
    }
   ],
   "source": [
    "df.info"
   ]
  },
  {
   "cell_type": "code",
   "execution_count": 11,
   "id": "a18a1c84",
   "metadata": {},
   "outputs": [],
   "source": [
    "url=\"\"\"https://insights.blackcoffer.com/ai-in-healthcare-to-improve-patient-outcomes/\"\"\""
   ]
  },
  {
   "cell_type": "code",
   "execution_count": 12,
   "id": "714af1b9",
   "metadata": {},
   "outputs": [],
   "source": [
    "headers = {\"User-Agent\": \"Mozilla/5.0 (X11; Linux x86_64; rv:60.0) Gecko/20100101 Firefox/60.0\"}\n",
    "page = requests.get(url, headers=headers)\n",
    "soup = BeautifulSoup(page.content, 'html.parser')"
   ]
  },
  {
   "cell_type": "code",
   "execution_count": 13,
   "id": "13d6f93d",
   "metadata": {},
   "outputs": [],
   "source": [
    "soup=BeautifulSoup(page.content, 'html.parser')"
   ]
  },
  {
   "cell_type": "code",
   "execution_count": 14,
   "id": "64eb094b",
   "metadata": {},
   "outputs": [
    {
     "data": {
      "text/plain": [
       "'AI in healthcare to Improve Patient Outcomes'"
      ]
     },
     "execution_count": 14,
     "metadata": {},
     "output_type": "execute_result"
    }
   ],
   "source": [
    "title=soup.find('h1',class_=\"entry-title\")\n",
    "title=title.text.replace('\\n',\" \")\n",
    "title"
   ]
  },
  {
   "cell_type": "code",
   "execution_count": 15,
   "id": "85c91667",
   "metadata": {},
   "outputs": [
    {
     "data": {
      "text/plain": [
       "' Introduction “If anything kills over 10 million people in the next few decades, it will be a highly infectious virus rather than a war. Not missiles but microbes.” Bill Gates’s remarks at a TED conference in 2014, right after the world had avoided the Ebola outbreak. When the new, unprecedented, invisible virus hit us, it met an overwhelmed and unprepared healthcare system and oblivious population. This public health emergency demonstrated our lack of scientific consideration and underlined the alarming need for robust innovations in our health and medical facilities. For the past few years, artificial intelligence has proven to be of tangible potential in the healthcare sectors, clinical practices, translational medical and biomedical research. After the first case was detected in China on December 31st 2019, it was an AI program developed by BlueDot that alerted the world about the pandemic. It was quick to realise AI’s ability to analyse large chunks of data could help in detecting patterns and identifying and tracking the possible carriers of the virus. Many tracing apps use AI to keep tabs on the people who have been infected and prevent the risk of cross-infection by using AI algorithms that can track patterns and extract some features to classify or categorise them. So how does AI do that? IBM Watson, a sophisticated AI that works on cloud computing and natural language processing, has prominently contributed to the healthcare sector on a global level. Being a conversational AI, since 2013, Watson has helped in recommending treatments to patients suffering from cancer to ensure that they get the best treatment at optimum costs.  Researchers at Google Inc. showed that an AI system can be trained on thousands of images to achieve physician-level sensitivity. By identifying the molecular patterns associated with disease status and its subtypes, gene expression, and protein abundance levels, machine learning methods can detect fatal diseases like cancer at an early stage. Machine Learning (ML) techniques focus mainly on analyzing structured data, which can further help in clustering patients’ traits and infer the probability of disease outcomes. Since patient traits mainly include masses of data relating to age, gender, disease history, disease-specific data like diagnostic imaging and gene expressions, etc, ML can extract features from these data inputs by constructing data analytical algorithms. ML algorithms are either supervised or unsupervised. Unsupervised learning helps in extracting features and clustering similar features together that further leads to early detection of diseases. Clustering and principal component analysis enable grouping or clustering of similar traits together that are further used to maximize or minimize the similarity between the patients within or between the clusters. Since patient traits are recorded in multiple dimensions, such as genes, principal component analysis(PCA) creates the apparatus to reduce these dimensions which humans could have not done alone. Supervised learning considers the outcomes of the subjects together with the traits, and further correlates the inputs with the outputs to predict the probability of getting a particular clinical event, expected value of a disease level or expected survival time, or risk of Down’s syndrome. Biomarker panels that are mostly used to detect ovarian cancer, have outperformed the conventional statistical methods due to machine learning. In addition to this, the use of EHRs and Bayesian networks, which are a part of supervised machine learning algorithms, can predict clinical outcomes and mortality respectively. Unstructured data such as clinical notes and texts are converted into machine-readable structured data with the help of natural language processing(NLP). NLP works with two components: text processing and classification. Text processing helps in identifying a series of disease-relevant keywords in clinical notes and then through classification are further categorized into normal and abnormal cases. Chest screening through ML and NLP has helped find abnormalities in the lungs and provide treatment to covid patients. Healthcare organizations use NLP-based chatbots to increase interactions with patients, keeping their mental health and wellness in check. Deep learning is a modern extension of the classical neural network techniques which helps explore more complex non-linear patterns in data, using algorithms like convolution neural network, recurrent neural network, deep belief network, and deep neural network which enables more accurate clinical prediction. When it comes to genome interpretation, deep neural networks surpass the conventional methods of logistics regression and support vector machines. Sepsis Watch is an AI system trained in deep learning algorithms that holds the capability to analyze over 32 million data points to create a patient’s risk score and identify the early stages of sepsis. Another method known as the Learning-based Optimization of the Under Sampling Pattern( LOUPE) is based on integrating full resolution MRI scans with the convolutional neural network algorithm, which helps in creating more accurate reconstructions. Robotic surgery is widely considered in most delicate surgeries like gynaecology and prostate surgery. Even after striking the right balance between human decisions and AI precision, robotic surgery reduces surgeon efficiency as they have to be manually operated through a console. Thus, autonomous robotic surgery is on the rise with inventions such as robotic silicon fingers that mimic the sense of touch that surgeons need to identify organs, cut tissues, etc., or robotic catheters that can navigate whether it is touching blood, tissue, or valve. Researchers at Children’s National Hospital, Washington have already developed an AI called Smart Tissue Autonomous Robot (STAR), which performs a colon anastomosis on its own with the help of an ML-powered suturing tool, that automatically detects the patient’s breathing pattern to apply suture at the correct point. An image of STAR during surgery. Cloud computing in healthcare has helped in retrieving and sharing medical records safely with a reduction in maintenance costs. Through this technology doctors and various healthcare workers have access to detailed patient data that helps in speeding up analysis ultimately leading to better care in the form of more accurate information, medications, and therapies. How can It help in Biomedical research? Since AI can analyze literature beyond readability, it can be used to concise biomedical research. With the help of ML algorithms and NLP, AI can accelerate screening and indexing of biomedical research, by ranking the literature of interest which allows researchers to formulate and test scientific hypotheses far more precisely and quickly. Taking it to the next level, AI systems like the computational modelling assistant (CMA) helps researchers to construct simulation models from the concepts they have in mind. Such innovations have majorly contributed to topics such as tumour suppressor mechanisms and protein-protein interaction information extraction. AI as precision medicine Since precision medicine focuses on healthcare interventions to individuals or groups of patients based on their profile, the various AI devices pave the way to practice it more efficiently. With the help of ML, complex algorithms like large datasets can be used to predict and create an optimal treatment strategy. Deep learning and neural networks can be used to process data in healthcare apps and keep a close watch on the patient’s emotional state, food intake, or health monitoring.\\xa0 “Omics” refers to the collective technologies that help in exploring the roles, relationships of various branches ending with the suffix “omics” such as genomics, proteomics, etc. Omics-based tests based on machine learning algorithms help find correlations and predict treatment responses, ultimately creating personalized treatments for individual patients.\\xa0 How it helps in psychology and neuro patients For psychologists studying creativity,\\xa0 AI is promising new classes of experiments that are developing data structures and programs and exploring novel theories on a new horizon. Studies show that \\xa0AI can conduct therapy sessions, e-therapy sessions, and assessments autonomously, also assisting human practitioners before, during, or after sessions. The Detection and Computational Analysis of Psychological Signal project uses ML, computer vision, and NLP to analyze language, physical gestures, and social signals to identify cues for human distress. This ground-breaking technology assesses soldiers returning from combat and recognizes those who require further mental health support. In the future, it will combine data captured during face-to-face interviews with information on sleeping, eating, and online behaviours for a complete patient view. Stroke identification Stroke is another frequently occurring disease that affects more than 500 million people worldwide. Thrombus,\\xa0 in the vessel cerebral infarction is the major (about 85%) cause of stroke occurrence. In recent years, AI techniques have been used in numerous stroke-related studies as early detection and timely treatment along with efficient outcome prediction can help solve the problem. With AI at our disposal, large amounts of data with rich information, more complications and real-life clinical questions can be addressed in this arena. Currently, two ML algorithms- genetic fuzzy finite state machine and PCA were implemented to build a model building solution. These include a human activity recognition stage and a stroke onset detection stage. An alert stroke message is activated as soon as a movement significantly different from the normal pattern is recorded. ML methods have been applied to neuroimaging data to assist disease evaluation and predicting stroke treatment for the diagnosis. Patient Monitoring Today, the market for AI-based patient monitoring is impressive and monetarily enticing. It is evolving with artificial sensors, smart technologies and explores everything from brain-computer interfaces to nanorobotics. Companies with their smart-watches have engaged people to perform remote monitoring even when they are not “patients”. An obvious place to start is with wearable and embedded sensors, glucose monitors, pulse monitors, oximeters, and ECG monitors. With patient monitoring becoming crucial, AI finds numerous applications in chronic conditions, intensive care units, operating rooms, emergency rooms, and cardiac wards where timeless clinical decision-making can be measured in seconds. More advances have started to gain traction like smart prosthetics and implants. These play an impeccable role in patient management post-surgery or rehabilitation. Demographics, laboratory results and vital signs can also be used to predict cardiac arrest, transfer into the intensive care unit, or even death. In addition, an interpretable machine-learning model can assist anesthesiologists in predicting hypoxaemia events during surgery. This suggests that with deep-learning algorithms, raw patient-monitoring data could be better used to avoid information overload and alert overload while enabling more accurate clinical prediction and timely decision-making.  \\xa0Conclusion Considering the vast range of tasks that an AI can do, it is evident that it holds deep potential in improving patient outcomes to skyrocketing levels. Using sophisticated algorithms AI can bring a revolution in the healthcare sector. Even after facing challenges like whether the technology will be able to deliver the promises, ethical measures, training physicians to use it, standard regulations etc, the role of AI in transforming the clinical practices cannot be ignored. The biggest challenge is the integration of AI in daily practice. All of these can be overcome and within that period the technologies will mature making the system far more enhanced and effective. Blackcoffer Insights 29: Sanskriti Sunderum and Aayushi Nauhwar, SRCC, Delhi University '"
      ]
     },
     "execution_count": 15,
     "metadata": {},
     "output_type": "execute_result"
    }
   ],
   "source": [
    "content=soup.findAll(attrs={'class':'td-post-content'})\n",
    "content=content[0].text.replace('\\n',\" \")\n",
    "content"
   ]
  },
  {
   "cell_type": "code",
   "execution_count": 18,
   "id": "966ca20b",
   "metadata": {},
   "outputs": [
    {
     "data": {
      "text/plain": [
       "' Introduction “If anything kills over 10 million people in the next few decades it will be a highly infectious virus rather than a war Not missiles but microbes” Bill Gates’s remarks at a TED conference in 2014 right after the world had avoided the Ebola outbreak When the new unprecedented invisible virus hit us it met an overwhelmed and unprepared healthcare system and oblivious population This public health emergency demonstrated our lack of scientific consideration and underlined the alarming need for robust innovations in our health and medical facilities For the past few years artificial intelligence has proven to be of tangible potential in the healthcare sectors clinical practices translational medical and biomedical research After the first case was detected in China on December 31st 2019 it was an AI program developed by BlueDot that alerted the world about the pandemic It was quick to realise AI’s ability to analyse large chunks of data could help in detecting patterns and identifying and tracking the possible carriers of the virus Many tracing apps use AI to keep tabs on the people who have been infected and prevent the risk of crossinfection by using AI algorithms that can track patterns and extract some features to classify or categorise them So how does AI do that IBM Watson a sophisticated AI that works on cloud computing and natural language processing has prominently contributed to the healthcare sector on a global level Being a conversational AI since 2013 Watson has helped in recommending treatments to patients suffering from cancer to ensure that they get the best treatment at optimum costs  Researchers at Google Inc showed that an AI system can be trained on thousands of images to achieve physicianlevel sensitivity By identifying the molecular patterns associated with disease status and its subtypes gene expression and protein abundance levels machine learning methods can detect fatal diseases like cancer at an early stage Machine Learning ML techniques focus mainly on analyzing structured data which can further help in clustering patients’ traits and infer the probability of disease outcomes Since patient traits mainly include masses of data relating to age gender disease history diseasespecific data like diagnostic imaging and gene expressions etc ML can extract features from these data inputs by constructing data analytical algorithms ML algorithms are either supervised or unsupervised Unsupervised learning helps in extracting features and clustering similar features together that further leads to early detection of diseases Clustering and principal component analysis enable grouping or clustering of similar traits together that are further used to maximize or minimize the similarity between the patients within or between the clusters Since patient traits are recorded in multiple dimensions such as genes principal component analysisPCA creates the apparatus to reduce these dimensions which humans could have not done alone Supervised learning considers the outcomes of the subjects together with the traits and further correlates the inputs with the outputs to predict the probability of getting a particular clinical event expected value of a disease level or expected survival time or risk of Down’s syndrome Biomarker panels that are mostly used to detect ovarian cancer have outperformed the conventional statistical methods due to machine learning In addition to this the use of EHRs and Bayesian networks which are a part of supervised machine learning algorithms can predict clinical outcomes and mortality respectively Unstructured data such as clinical notes and texts are converted into machinereadable structured data with the help of natural language processingNLP NLP works with two components text processing and classification Text processing helps in identifying a series of diseaserelevant keywords in clinical notes and then through classification are further categorized into normal and abnormal cases Chest screening through ML and NLP has helped find abnormalities in the lungs and provide treatment to covid patients Healthcare organizations use NLPbased chatbots to increase interactions with patients keeping their mental health and wellness in check Deep learning is a modern extension of the classical neural network techniques which helps explore more complex nonlinear patterns in data using algorithms like convolution neural network recurrent neural network deep belief network and deep neural network which enables more accurate clinical prediction When it comes to genome interpretation deep neural networks surpass the conventional methods of logistics regression and support vector machines Sepsis Watch is an AI system trained in deep learning algorithms that holds the capability to analyze over 32 million data points to create a patient’s risk score and identify the early stages of sepsis Another method known as the Learningbased Optimization of the Under Sampling Pattern LOUPE is based on integrating full resolution MRI scans with the convolutional neural network algorithm which helps in creating more accurate reconstructions Robotic surgery is widely considered in most delicate surgeries like gynaecology and prostate surgery Even after striking the right balance between human decisions and AI precision robotic surgery reduces surgeon efficiency as they have to be manually operated through a console Thus autonomous robotic surgery is on the rise with inventions such as robotic silicon fingers that mimic the sense of touch that surgeons need to identify organs cut tissues etc or robotic catheters that can navigate whether it is touching blood tissue or valve Researchers at Children’s National Hospital Washington have already developed an AI called Smart Tissue Autonomous Robot STAR which performs a colon anastomosis on its own with the help of an MLpowered suturing tool that automatically detects the patient’s breathing pattern to apply suture at the correct point An image of STAR during surgery Cloud computing in healthcare has helped in retrieving and sharing medical records safely with a reduction in maintenance costs Through this technology doctors and various healthcare workers have access to detailed patient data that helps in speeding up analysis ultimately leading to better care in the form of more accurate information medications and therapies How can It help in Biomedical research Since AI can analyze literature beyond readability it can be used to concise biomedical research With the help of ML algorithms and NLP AI can accelerate screening and indexing of biomedical research by ranking the literature of interest which allows researchers to formulate and test scientific hypotheses far more precisely and quickly Taking it to the next level AI systems like the computational modelling assistant CMA helps researchers to construct simulation models from the concepts they have in mind Such innovations have majorly contributed to topics such as tumour suppressor mechanisms and proteinprotein interaction information extraction AI as precision medicine Since precision medicine focuses on healthcare interventions to individuals or groups of patients based on their profile the various AI devices pave the way to practice it more efficiently With the help of ML complex algorithms like large datasets can be used to predict and create an optimal treatment strategy Deep learning and neural networks can be used to process data in healthcare apps and keep a close watch on the patient’s emotional state food intake or health monitoring\\xa0 “Omics” refers to the collective technologies that help in exploring the roles relationships of various branches ending with the suffix “omics” such as genomics proteomics etc Omicsbased tests based on machine learning algorithms help find correlations and predict treatment responses ultimately creating personalized treatments for individual patients\\xa0 How it helps in psychology and neuro patients For psychologists studying creativity\\xa0 AI is promising new classes of experiments that are developing data structures and programs and exploring novel theories on a new horizon Studies show that \\xa0AI can conduct therapy sessions etherapy sessions and assessments autonomously also assisting human practitioners before during or after sessions The Detection and Computational Analysis of Psychological Signal project uses ML computer vision and NLP to analyze language physical gestures and social signals to identify cues for human distress This groundbreaking technology assesses soldiers returning from combat and recognizes those who require further mental health support In the future it will combine data captured during facetoface interviews with information on sleeping eating and online behaviours for a complete patient view Stroke identification Stroke is another frequently occurring disease that affects more than 500 million people worldwide Thrombus\\xa0 in the vessel cerebral infarction is the major about 85 cause of stroke occurrence In recent years AI techniques have been used in numerous strokerelated studies as early detection and timely treatment along with efficient outcome prediction can help solve the problem With AI at our disposal large amounts of data with rich information more complications and reallife clinical questions can be addressed in this arena Currently two ML algorithms genetic fuzzy finite state machine and PCA were implemented to build a model building solution These include a human activity recognition stage and a stroke onset detection stage An alert stroke message is activated as soon as a movement significantly different from the normal pattern is recorded ML methods have been applied to neuroimaging data to assist disease evaluation and predicting stroke treatment for the diagnosis Patient Monitoring Today the market for AIbased patient monitoring is impressive and monetarily enticing It is evolving with artificial sensors smart technologies and explores everything from braincomputer interfaces to nanorobotics Companies with their smartwatches have engaged people to perform remote monitoring even when they are not “patients” An obvious place to start is with wearable and embedded sensors glucose monitors pulse monitors oximeters and ECG monitors With patient monitoring becoming crucial AI finds numerous applications in chronic conditions intensive care units operating rooms emergency rooms and cardiac wards where timeless clinical decisionmaking can be measured in seconds More advances have started to gain traction like smart prosthetics and implants These play an impeccable role in patient management postsurgery or rehabilitation Demographics laboratory results and vital signs can also be used to predict cardiac arrest transfer into the intensive care unit or even death In addition an interpretable machinelearning model can assist anesthesiologists in predicting hypoxaemia events during surgery This suggests that with deeplearning algorithms raw patientmonitoring data could be better used to avoid information overload and alert overload while enabling more accurate clinical prediction and timely decisionmaking  \\xa0Conclusion Considering the vast range of tasks that an AI can do it is evident that it holds deep potential in improving patient outcomes to skyrocketing levels Using sophisticated algorithms AI can bring a revolution in the healthcare sector Even after facing challenges like whether the technology will be able to deliver the promises ethical measures training physicians to use it standard regulations etc the role of AI in transforming the clinical practices cannot be ignored The biggest challenge is the integration of AI in daily practice All of these can be overcome and within that period the technologies will mature making the system far more enhanced and effective Blackcoffer Insights 29 Sanskriti Sunderum and Aayushi Nauhwar SRCC Delhi University '"
      ]
     },
     "execution_count": 18,
     "metadata": {},
     "output_type": "execute_result"
    }
   ],
   "source": [
    "content = content.translate(str.maketrans('', '', string.punctuation)) \n",
    "content"
   ]
  },
  {
   "cell_type": "code",
   "execution_count": 25,
   "id": "7826828a",
   "metadata": {},
   "outputs": [
    {
     "name": "stderr",
     "output_type": "stream",
     "text": [
      "[nltk_data] Downloading package punkt to\n",
      "[nltk_data]     C:\\Users\\deepa\\AppData\\Roaming\\nltk_data...\n"
     ]
    },
    {
     "name": "stdout",
     "output_type": "stream",
     "text": [
      "['Introduction', '“', 'If', 'anything', 'kills', 'over', '10', 'million', 'people', 'in', 'the', 'next', 'few', 'decades', 'it', 'will', 'be', 'a', 'highly', 'infectious', 'virus', 'rather', 'than', 'a', 'war', 'Not', 'missiles', 'but', 'microbes', '”', 'Bill', 'Gates', '’', 's', 'remarks', 'at', 'a', 'TED', 'conference', 'in', '2014', 'right', 'after', 'the', 'world', 'had', 'avoided', 'the', 'Ebola', 'outbreak']\n"
     ]
    },
    {
     "name": "stderr",
     "output_type": "stream",
     "text": [
      "[nltk_data]   Unzipping tokenizers\\punkt.zip.\n"
     ]
    }
   ],
   "source": [
    "#Tokenization\n",
    "import nltk\n",
    "nltk.download('punkt')\n",
    "from nltk.tokenize import word_tokenize\n",
    "text_tokens = word_tokenize(content)\n",
    "print(text_tokens[0:50])"
   ]
  },
  {
   "cell_type": "code",
   "execution_count": 26,
   "id": "69f9cd67",
   "metadata": {},
   "outputs": [
    {
     "data": {
      "text/plain": [
       "1814"
      ]
     },
     "execution_count": 26,
     "metadata": {},
     "output_type": "execute_result"
    }
   ],
   "source": [
    "len(text_tokens)"
   ]
  },
  {
   "cell_type": "code",
   "execution_count": 27,
   "id": "25d65300",
   "metadata": {},
   "outputs": [
    {
     "name": "stderr",
     "output_type": "stream",
     "text": [
      "[nltk_data] Downloading package punkt to\n",
      "[nltk_data]     C:\\Users\\deepa\\AppData\\Roaming\\nltk_data...\n",
      "[nltk_data]   Package punkt is already up-to-date!\n",
      "[nltk_data] Downloading package stopwords to\n",
      "[nltk_data]     C:\\Users\\deepa\\AppData\\Roaming\\nltk_data...\n"
     ]
    },
    {
     "name": "stdout",
     "output_type": "stream",
     "text": [
      "['Introduction', '“', 'If', 'anything', 'kills', '10', 'million', 'people', 'next', 'decades', 'highly', 'infectious', 'virus', 'rather', 'war', 'Not', 'missiles', 'microbes', '”', 'Bill', 'Gates', '’', 'remarks', 'TED', 'conference', '2014', 'right', 'world', 'avoided', 'Ebola', 'outbreak', 'When', 'new', 'unprecedented', 'invisible', 'virus', 'hit', 'us', 'met', 'overwhelmed']\n"
     ]
    },
    {
     "name": "stderr",
     "output_type": "stream",
     "text": [
      "[nltk_data]   Unzipping corpora\\stopwords.zip.\n"
     ]
    }
   ],
   "source": [
    "import nltk\n",
    "from nltk.corpus import stopwords\n",
    "nltk.download('punkt')\n",
    "nltk.download('stopwords')\n",
    "\n",
    "my_stop_words = stopwords.words('english')\n",
    "my_stop_words.append('the')\n",
    "no_stop_tokens = [word for word in text_tokens if not word in my_stop_words]\n",
    "print(no_stop_tokens[0:40])"
   ]
  },
  {
   "cell_type": "code",
   "execution_count": 28,
   "id": "9adc61ca",
   "metadata": {},
   "outputs": [
    {
     "data": {
      "text/plain": [
       "1198"
      ]
     },
     "execution_count": 28,
     "metadata": {},
     "output_type": "execute_result"
    }
   ],
   "source": [
    "len(no_stop_tokens)"
   ]
  },
  {
   "cell_type": "code",
   "execution_count": 39,
   "id": "26a82120",
   "metadata": {},
   "outputs": [],
   "source": [
    "with open(r\"C:\\Users\\deepa\\Downloads\\blc\\MasterDictionary\\positive-words.txt\") as pos:\n",
    "    poswords = pos.read().split(\"\\n\")  \n",
    "    poswords = poswords[5:]"
   ]
  },
  {
   "cell_type": "code",
   "execution_count": 40,
   "id": "83907dea",
   "metadata": {},
   "outputs": [],
   "source": [
    "pos_count = \" \".join ([w for w in no_stop_tokens if w in poswords])\n",
    "pos_count=pos_count.split(\" \")"
   ]
  },
  {
   "cell_type": "code",
   "execution_count": 41,
   "id": "c6ce64e6",
   "metadata": {},
   "outputs": [
    {
     "name": "stdout",
     "output_type": "stream",
     "text": [
      "76\n"
     ]
    }
   ],
   "source": [
    "Positive_score=len(pos_count)\n",
    "print(Positive_score)"
   ]
  },
  {
   "cell_type": "code",
   "execution_count": 42,
   "id": "f2e766b6",
   "metadata": {},
   "outputs": [],
   "source": [
    "with open(r\"C:\\Users\\deepa\\Downloads\\blc\\MasterDictionary\\negative-words.txt\",encoding = \"ISO-8859-1\") as neg:\n",
    "    negwords = neg.read().split(\"\\n\")\n",
    "    \n",
    "negwords = negwords[36:]"
   ]
  },
  {
   "cell_type": "code",
   "execution_count": 43,
   "id": "ff5f3620",
   "metadata": {},
   "outputs": [],
   "source": [
    "neg_count = \" \".join ([w for w in no_stop_tokens if w in negwords])\n",
    "neg_count=neg_count.split(\" \")"
   ]
  },
  {
   "cell_type": "code",
   "execution_count": 44,
   "id": "c91459cb",
   "metadata": {},
   "outputs": [
    {
     "name": "stdout",
     "output_type": "stream",
     "text": [
      "32\n"
     ]
    }
   ],
   "source": [
    "Negative_score=len(neg_count)\n",
    "print(Negative_score)"
   ]
  },
  {
   "cell_type": "code",
   "execution_count": 45,
   "id": "41fce192",
   "metadata": {},
   "outputs": [],
   "source": [
    "filter_content = ' '.join(no_stop_tokens)"
   ]
  },
  {
   "cell_type": "code",
   "execution_count": 46,
   "id": "b95fb4d3",
   "metadata": {},
   "outputs": [],
   "source": [
    "data=[[url,title,content,filter_content,Positive_score,Negative_score]]"
   ]
  },
  {
   "cell_type": "code",
   "execution_count": 47,
   "id": "890cc736",
   "metadata": {},
   "outputs": [],
   "source": [
    "data=pd.DataFrame(data,columns=[\"url\",\"title\",\"content\",\"filter_content\",\"Positive_Score\",\"Negative_Score\"])"
   ]
  },
  {
   "cell_type": "markdown",
   "id": "54ee0cd7",
   "metadata": {},
   "source": [
    "Polarity Score & Subjectivity Score# Polarity Score & Subjectivity Score"
   ]
  },
  {
   "cell_type": "code",
   "execution_count": 49,
   "id": "539f050a",
   "metadata": {},
   "outputs": [
    {
     "data": {
      "text/html": [
       "<div>\n",
       "<style scoped>\n",
       "    .dataframe tbody tr th:only-of-type {\n",
       "        vertical-align: middle;\n",
       "    }\n",
       "\n",
       "    .dataframe tbody tr th {\n",
       "        vertical-align: top;\n",
       "    }\n",
       "\n",
       "    .dataframe thead th {\n",
       "        text-align: right;\n",
       "    }\n",
       "</style>\n",
       "<table border=\"1\" class=\"dataframe\">\n",
       "  <thead>\n",
       "    <tr style=\"text-align: right;\">\n",
       "      <th></th>\n",
       "      <th>url</th>\n",
       "      <th>title</th>\n",
       "      <th>content</th>\n",
       "      <th>filter_content</th>\n",
       "      <th>Positive_Score</th>\n",
       "      <th>Negative_Score</th>\n",
       "      <th>polarity</th>\n",
       "      <th>subjectivity</th>\n",
       "    </tr>\n",
       "  </thead>\n",
       "  <tbody>\n",
       "    <tr>\n",
       "      <th>0</th>\n",
       "      <td>https://insights.blackcoffer.com/ai-in-healthc...</td>\n",
       "      <td>AI in healthcare to Improve Patient Outcomes</td>\n",
       "      <td>Introduction “If anything kills over 10 milli...</td>\n",
       "      <td>Introduction “ If anything kills 10 million pe...</td>\n",
       "      <td>76</td>\n",
       "      <td>32</td>\n",
       "      <td>0.136936</td>\n",
       "      <td>0.463364</td>\n",
       "    </tr>\n",
       "  </tbody>\n",
       "</table>\n",
       "</div>"
      ],
      "text/plain": [
       "                                                 url  \\\n",
       "0  https://insights.blackcoffer.com/ai-in-healthc...   \n",
       "\n",
       "                                          title  \\\n",
       "0  AI in healthcare to Improve Patient Outcomes   \n",
       "\n",
       "                                             content  \\\n",
       "0   Introduction “If anything kills over 10 milli...   \n",
       "\n",
       "                                      filter_content  Positive_Score  \\\n",
       "0  Introduction “ If anything kills 10 million pe...              76   \n",
       "\n",
       "   Negative_Score  polarity  subjectivity  \n",
       "0              32  0.136936      0.463364  "
      ]
     },
     "execution_count": 49,
     "metadata": {},
     "output_type": "execute_result"
    }
   ],
   "source": [
    "from textblob import TextBlob\n",
    "\n",
    "# Get The Subjectivity\n",
    "def sentiment_analysis(data):\n",
    "    sentiment = TextBlob(data[\"content\"]).sentiment\n",
    "    return pd.Series([sentiment.polarity,sentiment.subjectivity ])\n",
    "\n",
    "# Adding Subjectivity & Polarity\n",
    "data[[\"polarity\", \"subjectivity\"]] = data.apply(sentiment_analysis, axis=1)\n",
    "\n",
    "data"
   ]
  },
  {
   "cell_type": "code",
   "execution_count": 50,
   "id": "89516fe6",
   "metadata": {},
   "outputs": [
    {
     "name": "stdout",
     "output_type": "stream",
     "text": [
      "Word average = 10162.0\n"
     ]
    }
   ],
   "source": [
    "#AVG SENTENCE LENGTH\n",
    "AVG_SENTENCE_LENGTH = len(content.replace(' ',''))/len(re.split(r'[?!.]', content))\n",
    "print('Word average =', AVG_SENTENCE_LENGTH)"
   ]
  },
  {
   "cell_type": "code",
   "execution_count": 53,
   "id": "3af986d1",
   "metadata": {},
   "outputs": [],
   "source": [
    "import textstat"
   ]
  },
  {
   "cell_type": "markdown",
   "id": "c4777489",
   "metadata": {},
   "source": [
    "# fog index\n"
   ]
  },
  {
   "cell_type": "code",
   "execution_count": 54,
   "id": "ec1d2218",
   "metadata": {},
   "outputs": [
    {
     "name": "stdout",
     "output_type": "stream",
     "text": [
      "721.92\n"
     ]
    }
   ],
   "source": [
    "FOG_INDEX=(textstat.gunning_fog(content))\n",
    "print(FOG_INDEX)"
   ]
  },
  {
   "cell_type": "markdown",
   "id": "088cb848",
   "metadata": {},
   "source": [
    "# avg no of words/sentance"
   ]
  },
  {
   "cell_type": "code",
   "execution_count": 55,
   "id": "ffabdc72",
   "metadata": {},
   "outputs": [
    {
     "name": "stdout",
     "output_type": "stream",
     "text": [
      "1790.0\n"
     ]
    }
   ],
   "source": [
    "AVG_NUMBER_OF_WORDS_PER_SENTENCE = [len(l.split()) for l in re.split(r'[?!.]', content) if l.strip()]\n",
    "AVG_NUMBER_OF_WORDS_PER_SENTENCE=print(sum(AVG_NUMBER_OF_WORDS_PER_SENTENCE)/len(AVG_NUMBER_OF_WORDS_PER_SENTENCE))"
   ]
  },
  {
   "cell_type": "markdown",
   "id": "8d6a9cb1",
   "metadata": {},
   "source": [
    "# complex word count"
   ]
  },
  {
   "cell_type": "code",
   "execution_count": 56,
   "id": "752b91af",
   "metadata": {},
   "outputs": [
    {
     "name": "stdout",
     "output_type": "stream",
     "text": [
      "3579\n"
     ]
    }
   ],
   "source": [
    "def syllable_count(word):\n",
    "    count = 0\n",
    "    vowels = \"AEIOUYaeiouy\"\n",
    "    if word[0] in vowels:\n",
    "        count += 1\n",
    "    for index in range(1, len(word)): \n",
    "        if word[index] in vowels and word[index - 1] not in vowels:\n",
    "            count += 1\n",
    "            if word.endswith(\"es\"or \"ed\"):\n",
    "                count -= 1\n",
    "    if count == 0:\n",
    "        count += 1\n",
    "    return count\n",
    "\n",
    "\n",
    "\n",
    "COMPLEX_WORDS=syllable_count(content)\n",
    "print(COMPLEX_WORDS)"
   ]
  },
  {
   "cell_type": "markdown",
   "id": "4fe84e74",
   "metadata": {},
   "source": [
    "# total words"
   ]
  },
  {
   "cell_type": "code",
   "execution_count": 57,
   "id": "f5814fed",
   "metadata": {},
   "outputs": [
    {
     "name": "stdout",
     "output_type": "stream",
     "text": [
      "11955\n"
     ]
    }
   ],
   "source": [
    "Word_Count=len(content)\n",
    "print(Word_Count)"
   ]
  },
  {
   "cell_type": "markdown",
   "id": "6525ddb8",
   "metadata": {},
   "source": [
    "Percentage of Complex words"
   ]
  },
  {
   "cell_type": "code",
   "execution_count": 58,
   "id": "690528c9",
   "metadata": {},
   "outputs": [
    {
     "name": "stdout",
     "output_type": "stream",
     "text": [
      "29.937264742785448\n"
     ]
    }
   ],
   "source": [
    "pcw=(COMPLEX_WORDS/Word_Count)*100\n",
    "print(pcw)"
   ]
  },
  {
   "cell_type": "code",
   "execution_count": null,
   "id": "5ab93d18",
   "metadata": {},
   "outputs": [],
   "source": [
    "import nltk\n",
    "nltk.download('all')"
   ]
  },
  {
   "cell_type": "markdown",
   "id": "f40a3352",
   "metadata": {},
   "source": [
    "Personal Pronouns"
   ]
  },
  {
   "cell_type": "code",
   "execution_count": 63,
   "id": "57e2ae74",
   "metadata": {},
   "outputs": [],
   "source": [
    "\n",
    "def ProperNounExtractor(text):\n",
    "    count = 0\n",
    "    sentences = nltk.sent_tokenize(text)\n",
    "    for sentence in sentences:\n",
    "        words = nltk.word_tokenize(sentence)\n",
    "        tagged = nltk.pos_tag(words)\n",
    "        for (word, tag) in tagged:\n",
    "            if tag == 'PRP': # If the word is a proper noun\n",
    "                count = count + 1 \n",
    "        \n",
    "    return(count)         \n",
    "                \n",
    "\n",
    "\n",
    "# Calling the ProperNounExtractor function to extract all the proper nouns from the given text. \n",
    "Personal_Pronouns=ProperNounExtractor(content)  "
   ]
  },
  {
   "cell_type": "markdown",
   "id": "ea0704f0",
   "metadata": {},
   "source": [
    "Average Word Length"
   ]
  },
  {
   "cell_type": "code",
   "execution_count": 64,
   "id": "a4e2e04c",
   "metadata": {},
   "outputs": [
    {
     "name": "stdout",
     "output_type": "stream",
     "text": [
      "5.677094972067039\n"
     ]
    }
   ],
   "source": [
    "Average_Word_Length=len(content.replace(' ',''))/len(content.split())\n",
    "print(Average_Word_Length)"
   ]
  },
  {
   "cell_type": "markdown",
   "id": "502842cf",
   "metadata": {},
   "source": [
    "SYLLABLE PER WORD"
   ]
  },
  {
   "cell_type": "code",
   "execution_count": 65,
   "id": "9c5aec24",
   "metadata": {},
   "outputs": [
    {
     "name": "stdout",
     "output_type": "stream",
     "text": [
      "The AVG number of syllables in the word is: \n",
      "2.2480446927374302\n"
     ]
    }
   ],
   "source": [
    "word=content.replace(' ','')\n",
    "syllable_count=0\n",
    "for w in word:\n",
    "      if(w=='a' or w=='e' or w=='i' or w=='o' or w=='y' or w=='u' or w=='A' or w=='E' or w=='I' or w=='O' or w=='U' or w=='Y'):\n",
    "            syllable_count=syllable_count+1\n",
    "print(\"The AVG number of syllables in the word is: \")\n",
    "print(syllable_count/len(content.split()))"
   ]
  },
  {
   "cell_type": "code",
   "execution_count": null,
   "id": "519b4f16",
   "metadata": {},
   "outputs": [],
   "source": []
  }
 ],
 "metadata": {
  "kernelspec": {
   "display_name": "Python 3 (ipykernel)",
   "language": "python",
   "name": "python3"
  },
  "language_info": {
   "codemirror_mode": {
    "name": "ipython",
    "version": 3
   },
   "file_extension": ".py",
   "mimetype": "text/x-python",
   "name": "python",
   "nbconvert_exporter": "python",
   "pygments_lexer": "ipython3",
   "version": "3.10.0"
  }
 },
 "nbformat": 4,
 "nbformat_minor": 5
}
